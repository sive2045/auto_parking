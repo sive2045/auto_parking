{
 "cells": [
  {
   "cell_type": "code",
   "execution_count": 2,
   "metadata": {},
   "outputs": [],
   "source": [
    "#!/usr/bin/python3\n",
    "# -*- coding:utf-8 -*-\n",
    "import RPi.GPIO as GPIO\n",
    "import time\n",
    "import Car_Motor  \n",
    "from Ultrasonic import *\n",
    "\n",
    "car = Car_Motor.Car_Motor()\n",
    "sonic = UltraSonic()"
   ]
  },
  {
   "cell_type": "markdown",
   "metadata": {},
   "source": [
    "### Define the pins.\n",
    "### Set the coding method of GPIO and initial settings."
   ]
  },
  {
   "cell_type": "code",
   "execution_count": 3,
   "metadata": {},
   "outputs": [],
   "source": [
    "PIN = 36; #Define IR pin\n",
    "buzzer = 32; #Define buzzer pin\n",
    "\n",
    "#Set the GPIO port to BIARD encoding mode\n",
    "GPIO.setmode(GPIO.BOARD)\n",
    "\n",
    "#Ignore the warning message\n",
    "GPIO.setwarnings(False)\n",
    "\n",
    "ir_repeat_cnt = 0\n",
    "\n",
    "def init():\n",
    "    GPIO.setup(PIN,GPIO.IN,GPIO.PUD_UP)  #The pin of the red external device needs to be set to input pull-up\n",
    "    GPIO.setup(buzzer,GPIO.OUT)         #Buzzer pin be set to output mode\n",
    "    \n",
    "    print(\"IR control start...\")\n",
    "\n",
    "#whistle\n",
    "def whistle():\n",
    "    p = GPIO.PWM(buzzer, 440)\n",
    "    p.start(50)\n",
    "    time.sleep(0.5)\n",
    "    p.stop() "
   ]
  },
  {
   "cell_type": "markdown",
   "metadata": {},
   "source": [
    "### The function exec_cmd defines the function of all the buttons on the infrared remote control.\n",
    "### Here we only define some key functions. Users can add functions by themselves."
   ]
  },
  {
   "cell_type": "code",
   "execution_count": 4,
   "metadata": {},
   "outputs": [],
   "source": [
    "def exec_cmd(key_val):\n",
    "    if key_val==0x45:  #Power button\n",
    "        car.Ctrl_Servo(1, 90)\n",
    "        car.Ctrl_Servo(2, 90)\n",
    "        car.Car_Stop()\n",
    "    elif key_val==0x40:   #+ button\n",
    "        car.Car_Run(100, 100)   #car advance\n",
    "    elif key_val==0x15:   #Stop button\n",
    "        car.Car_Stop()\n",
    "    elif key_val==0x07:   #Left button\n",
    "        car.Car_Left(100, 100)\n",
    "    elif key_val==0x47:   #MENU button\n",
    "        whistle()         #buzzer whistle\n",
    "    elif key_val==0x09:   #Right button\n",
    "        car.Car_Right(100, 100)\n",
    "    elif key_val==0x16:   #0 button\n",
    "        car.Car_Spin_Left(100, 100)\n",
    "    elif key_val==0x19:   #- button\n",
    "        car.Car_Back(100, 100)  \n",
    "    elif key_val==0x0d:   #C button\n",
    "        car.Car_Spin_Right(100, 100)\n",
    "    elif key_val==0x0c:   #1 button\n",
    "        car.Ctrl_Servo(1, 0)\n",
    "    elif key_val==0x18:   #2 button\n",
    "        car.Ctrl_Servo(1, 90)\n",
    "    elif key_val==0x5e:   #3 button\n",
    "        car.Ctrl_Servo(1, 180)\n",
    "    elif key_val==0x08:   #4 button\n",
    "        car.Ctrl_Servo(2, 0)\n",
    "    elif key_val==0x1c:   #5 button\n",
    "        car.Car_Run(50,50)\n",
    "        time.sleep(1)\n",
    "        car.Car_Stop()\n",
    "        time.sleep(0.3)\n",
    "        # parking while dist >= 5\n",
    "        try:\n",
    "            while True:\n",
    "                distance = sonic.Distance_test()\n",
    "                if distance < 5:\n",
    "                    car.Car_Stop()\n",
    "                    break\n",
    "                else:\n",
    "                    car.Car_Run(25,100)\n",
    "                time.sleep(0.03)\n",
    "        except KeyboardInterrupt:\n",
    "            pass\n",
    "        car.Car_Stop()\n",
    "        print(\"Parking Ending\")\n",
    "        GPIO.cleanup()\n",
    "    elif key_val==0x5a:   #6 button\n",
    "        car.Ctrl_Servo(2, 180)\n",
    "    else:\n",
    "        print(key_val)\n",
    "        print(\"no cmd\")\n",
    "        \n",
    "    "
   ]
  },
  {
   "cell_type": "markdown",
   "metadata": {},
   "source": [
    "### Main process"
   ]
  },
  {
   "cell_type": "code",
   "execution_count": 5,
   "metadata": {},
   "outputs": [
    {
     "name": "stdout",
     "output_type": "stream",
     "text": [
      "IR control start...\n",
      "Get the key: 0x40\n",
      "Get the key: 0x19\n",
      "Get the key: 0x19\n",
      "Get the key: 0x1c\n",
      "distance is 39.157152\n",
      "distance is 39.174716\n",
      "distance is 39.019346\n",
      "distance is 39.178769\n",
      "distance is 38.709958\n",
      "distance is 38.982868\n",
      "distance is 38.708607\n",
      "distance is 39.144993\n",
      "distance is 38.701852\n",
      "distance is 38.708607\n",
      "distance is 38.703203\n",
      "distance is 38.709958\n",
      "distance is 38.695097\n",
      "distance is 38.697799\n",
      "distance is 38.703203\n",
      "distance is 38.562695\n",
      "distance is 38.562695\n",
      "distance is 38.697799\n",
      "distance is 41.648467\n",
      "distance is 18.232266\n",
      "distance is 31.681856\n",
      "distance is 10.124683\n",
      "distance is 8.338610\n",
      "distance is 5.709489\n",
      "distance is 4.371961\n",
      "Parking Ending\n"
     ]
    },
    {
     "ename": "RuntimeError",
     "evalue": "Please set pin numbering mode using GPIO.setmode(GPIO.BOARD) or GPIO.setmode(GPIO.BCM)",
     "output_type": "error",
     "traceback": [
      "\u001b[0;31m---------------------------------------------------------------------------\u001b[0m",
      "\u001b[0;31mRuntimeError\u001b[0m                              Traceback (most recent call last)",
      "\u001b[0;32m<ipython-input-5-7f19d51c970e>\u001b[0m in \u001b[0;36m<module>\u001b[0;34m()\u001b[0m\n\u001b[1;32m      2\u001b[0m     \u001b[0minit\u001b[0m\u001b[0;34m(\u001b[0m\u001b[0;34m)\u001b[0m\u001b[0;34m\u001b[0m\u001b[0;34m\u001b[0m\u001b[0m\n\u001b[1;32m      3\u001b[0m     \u001b[0;32mwhile\u001b[0m \u001b[0;32mTrue\u001b[0m\u001b[0;34m:\u001b[0m\u001b[0;34m\u001b[0m\u001b[0;34m\u001b[0m\u001b[0m\n\u001b[0;32m----> 4\u001b[0;31m         \u001b[0;32mif\u001b[0m \u001b[0mGPIO\u001b[0m\u001b[0;34m.\u001b[0m\u001b[0minput\u001b[0m\u001b[0;34m(\u001b[0m\u001b[0mPIN\u001b[0m\u001b[0;34m)\u001b[0m \u001b[0;34m==\u001b[0m \u001b[0;36m0\u001b[0m\u001b[0;34m:\u001b[0m\u001b[0;34m\u001b[0m\u001b[0;34m\u001b[0m\u001b[0m\n\u001b[0m\u001b[1;32m      5\u001b[0m             \u001b[0mir_repeat_cnt\u001b[0m \u001b[0;34m=\u001b[0m \u001b[0;36m0\u001b[0m\u001b[0;34m;\u001b[0m\u001b[0;34m\u001b[0m\u001b[0;34m\u001b[0m\u001b[0m\n\u001b[1;32m      6\u001b[0m             \u001b[0mcount\u001b[0m \u001b[0;34m=\u001b[0m \u001b[0;36m0\u001b[0m\u001b[0;34m\u001b[0m\u001b[0;34m\u001b[0m\u001b[0m\n",
      "\u001b[0;31mRuntimeError\u001b[0m: Please set pin numbering mode using GPIO.setmode(GPIO.BOARD) or GPIO.setmode(GPIO.BCM)"
     ]
    }
   ],
   "source": [
    "try:\n",
    "    init()\n",
    "    while True:\n",
    "        if GPIO.input(PIN) == 0:\n",
    "            ir_repeat_cnt = 0;\n",
    "            count = 0\n",
    "            while GPIO.input(PIN) == 0 and count < 200:\n",
    "                count += 1\n",
    "                time.sleep(0.00006)\n",
    "\n",
    "            count = 0\n",
    "            while GPIO.input(PIN) == 1 and count < 80:\n",
    "                count += 1\n",
    "                time.sleep(0.00006)\n",
    "\n",
    "            idx = 0\n",
    "            cnt = 0\n",
    "            data = [0,0,0,0]\n",
    "            for i in range(0,32):\n",
    "                count = 0\n",
    "                while GPIO.input(PIN) == 0 and count < 15:\n",
    "                    count += 1\n",
    "                    time.sleep(0.00006)\n",
    "\n",
    "                count = 0\n",
    "                while GPIO.input(PIN) == 1 and count < 40:\n",
    "                    count += 1\n",
    "                    time.sleep(0.00006)\n",
    "\n",
    "                if count > 9:\n",
    "                    data[idx] |= 1<<cnt\n",
    "                if cnt == 7:\n",
    "                    cnt = 0\n",
    "                    idx += 1\n",
    "                else:\n",
    "                    cnt += 1\n",
    "            if data[0]+data[1] == 0xFF and data[2]+data[3] == 0xFF:\n",
    "                print(\"Get the key: 0x%02x\" %data[2])\n",
    "                exec_cmd(data[2])\n",
    "        else:\n",
    "            if ir_repeat_cnt > 110: #Judge whether the infrared remote control button is released, because the repetition cycle time is 110ms, so here it should be set to 110*0.001.\n",
    "                ir_repeat_cnt = 0\n",
    "                car.Car_Stop()\n",
    "            else:\n",
    "                time.sleep(0.001)\n",
    "                ir_repeat_cnt += 1\n",
    "except KeyboardInterrupt:\n",
    "    pass\n",
    "print(\"Ending\")\n",
    "GPIO.cleanup()"
   ]
  },
  {
   "cell_type": "markdown",
   "metadata": {},
   "source": [
    "### When you need to end the entire program, please click the square button (Interrupt the kernel) in the upper menu bar.\n",
    "### Then you can see the Ending prompt, which means the program has been successfully ended"
   ]
  },
  {
   "cell_type": "code",
   "execution_count": null,
   "metadata": {},
   "outputs": [],
   "source": []
  }
 ],
 "metadata": {
  "kernelspec": {
   "display_name": "Python 3",
   "language": "python",
   "name": "python3"
  },
  "language_info": {
   "codemirror_mode": {
    "name": "ipython",
    "version": 3
   },
   "file_extension": ".py",
   "mimetype": "text/x-python",
   "name": "python",
   "nbconvert_exporter": "python",
   "pygments_lexer": "ipython3",
   "version": "3.7.3"
  }
 },
 "nbformat": 4,
 "nbformat_minor": 4
}
