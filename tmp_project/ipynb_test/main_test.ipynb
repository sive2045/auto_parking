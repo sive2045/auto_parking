{
 "cells": [
  {
   "cell_type": "code",
   "execution_count": 35,
   "metadata": {},
   "outputs": [
    {
     "name": "stdout",
     "output_type": "stream",
     "text": [
      "distance is 69.129944\n",
      "distance is 67.515453\n",
      "distance is 52.970171\n",
      "distance is 65.957705\n",
      "distance is 71.825266\n",
      "distance is 52.232504\n",
      "distance is 54.140170\n",
      "distance is 41.221539\n",
      "distance is 17.847220\n",
      "distance is 12.162050\n",
      "distance is 6.271521\n",
      "distance is 2.341350\n",
      "Parking Ending\n"
     ]
    }
   ],
   "source": [
    "from Ultrasonic import *\n",
    "import Car_Motor\n",
    "car = Car_Motor.Car_Motor()\n",
    "sonic = UltraSonic()\n",
    "\n",
    "# parking while dist >= 5\n",
    "try:\n",
    "    while True:\n",
    "        distance = sonic.Distance_test()\n",
    "        if distance < 5:\n",
    "            car.Car_Stop()\n",
    "            break\n",
    "        else:\n",
    "            car.Car_Run(35,100)\n",
    "        time.sleep(0.05)\n",
    "except KeyboardInterrupt:\n",
    "    pass\n",
    "car.Car_Stop()\n",
    "print(\"Parking Ending\")\n",
    "GPIO.cleanup()"
   ]
  },
  {
   "cell_type": "code",
   "execution_count": 27,
   "metadata": {},
   "outputs": [],
   "source": [
    "car.Car_Run(40,100)\n",
    "time.sleep(1.8)\n",
    "car.Car_Stop()"
   ]
  },
  {
   "cell_type": "code",
   "execution_count": null,
   "metadata": {},
   "outputs": [],
   "source": []
  }
 ],
 "metadata": {
  "kernelspec": {
   "display_name": "Python 3",
   "language": "python",
   "name": "python3"
  },
  "language_info": {
   "codemirror_mode": {
    "name": "ipython",
    "version": 3
   },
   "file_extension": ".py",
   "mimetype": "text/x-python",
   "name": "python",
   "nbconvert_exporter": "python",
   "pygments_lexer": "ipython3",
   "version": "3.7.3"
  }
 },
 "nbformat": 4,
 "nbformat_minor": 4
}
