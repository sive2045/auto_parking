{
 "cells": [
  {
   "cell_type": "code",
   "execution_count": 2,
   "metadata": {},
   "outputs": [
    {
     "name": "stdout",
     "output_type": "stream",
     "text": [
      "distance is 2.883116\n",
      "distance is 2.889872\n",
      "distance is 2.880414\n",
      "distance is 2.872308\n",
      "distance is 2.885818\n",
      "distance is 2.876361\n",
      "distance is 2.885818\n",
      "distance is 2.881765\n",
      "distance is 2.875010\n",
      "distance is 2.875010\n",
      "distance is 2.865553\n",
      "Ending\n"
     ]
    }
   ],
   "source": [
    "from Ultrasonic import *\n",
    "import Car_Motor\n",
    "car = Car_Motor.Car_Motor()\n",
    "sonic = UltraSonic()\n",
    "\n",
    "try:\n",
    "    while True:\n",
    "        distance = sonic.Distance_test()\n",
    "        if distance < 5:\n",
    "            car.Car_Stop()\n",
    "        else:\n",
    "            car.Car_Run(100, 100)\n",
    "        time.sleep(0.1)\n",
    "except KeyboardInterrupt:\n",
    "    pass\n",
    "car.Car_Stop()\n",
    "print(\"Ending\")\n",
    "GPIO.cleanup()"
   ]
  },
  {
   "cell_type": "code",
   "execution_count": null,
   "metadata": {},
   "outputs": [],
   "source": []
  }
 ],
 "metadata": {
  "kernelspec": {
   "display_name": "Python 3",
   "language": "python",
   "name": "python3"
  },
  "language_info": {
   "codemirror_mode": {
    "name": "ipython",
    "version": 3
   },
   "file_extension": ".py",
   "mimetype": "text/x-python",
   "name": "python",
   "nbconvert_exporter": "python",
   "pygments_lexer": "ipython3",
   "version": "3.7.3"
  }
 },
 "nbformat": 4,
 "nbformat_minor": 4
}
