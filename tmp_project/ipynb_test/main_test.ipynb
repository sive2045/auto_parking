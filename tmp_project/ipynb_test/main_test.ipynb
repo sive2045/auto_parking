{
 "cells": [
  {
   "cell_type": "code",
   "execution_count": 49,
   "metadata": {},
   "outputs": [
    {
     "name": "stdout",
     "output_type": "stream",
     "text": [
      "distance is 40.983756\n",
      "distance is 34.036716\n",
      "distance is 40.524403\n",
      "distance is 56.466659\n",
      "distance is 53.044478\n",
      "distance is 48.792760\n",
      "distance is 46.585162\n",
      "distance is 181.574186\n",
      "distance is 166.901906\n",
      "distance is 20.096699\n",
      "distance is 15.713930\n",
      "distance is 11.201461\n",
      "distance is 7.091602\n",
      "distance is 3.162781\n",
      "Parking Ending\n"
     ]
    }
   ],
   "source": [
    "from Ultrasonic import *\n",
    "import Car_Motor\n",
    "car = Car_Motor.Car_Motor()\n",
    "sonic = UltraSonic()\n",
    "\n",
    "car.Car_Run(50,50)\n",
    "time.sleep(1)\n",
    "car.Car_Stop()\n",
    "time.sleep(0.3)\n",
    "# parking while dist >= 5\n",
    "try:\n",
    "    while True:\n",
    "        distance = sonic.Distance_test()\n",
    "        if distance < 5:\n",
    "            car.Car_Stop()\n",
    "            break\n",
    "        else:\n",
    "            car.Car_Run(25,100)\n",
    "        time.sleep(0.03)\n",
    "except KeyboardInterrupt:\n",
    "    pass\n",
    "car.Car_Stop()\n",
    "print(\"Parking Ending\")\n",
    "GPIO.cleanup()"
   ]
  },
  {
   "cell_type": "code",
   "execution_count": 33,
   "metadata": {},
   "outputs": [],
   "source": [
    "car.Car_Run(50,50)\n",
    "time.sleep(1)\n",
    "car.Car_Stop()\n",
    "time.sleep(0.3)\n",
    "car.Car_Run(25,100)\n",
    "time.sleep(1.7)\n",
    "car.Car_Stop()"
   ]
  },
  {
   "cell_type": "code",
   "execution_count": 14,
   "metadata": {},
   "outputs": [],
   "source": []
  },
  {
   "cell_type": "code",
   "execution_count": null,
   "metadata": {},
   "outputs": [],
   "source": []
  }
 ],
 "metadata": {
  "kernelspec": {
   "display_name": "Python 3",
   "language": "python",
   "name": "python3"
  },
  "language_info": {
   "codemirror_mode": {
    "name": "ipython",
    "version": 3
   },
   "file_extension": ".py",
   "mimetype": "text/x-python",
   "name": "python",
   "nbconvert_exporter": "python",
   "pygments_lexer": "ipython3",
   "version": "3.7.3"
  }
 },
 "nbformat": 4,
 "nbformat_minor": 4
}
