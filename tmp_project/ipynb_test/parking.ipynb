{
 "cells": [
  {
   "cell_type": "code",
   "execution_count": 2,
   "metadata": {},
   "outputs": [],
   "source": [
    "import Car_Motor  #Import Yahboom car library\n",
    "import time\n",
    "\n",
    "car = Car_Motor.Car_Motor()"
   ]
  },
  {
   "cell_type": "code",
   "execution_count": 9,
   "metadata": {},
   "outputs": [],
   "source": [
    "# perpendicular parking mode; reverse gear\n",
    "car.Car_Run(180, 60)\n",
    "time.sleep(1.7)\n",
    "car.Car_Stop()\n",
    "\n",
    "car.Car_Back(80, 145)\n",
    "time.sleep(1)\n",
    "car.Car_Stop()\n",
    "\n",
    "car.Car_Back(150, 150)\n",
    "time.sleep(0.8)\n",
    "car.Car_Stop()"
   ]
  },
  {
   "cell_type": "code",
   "execution_count": null,
   "metadata": {},
   "outputs": [],
   "source": []
  }
 ],
 "metadata": {
  "kernelspec": {
   "display_name": "Python 3",
   "language": "python",
   "name": "python3"
  },
  "language_info": {
   "codemirror_mode": {
    "name": "ipython",
    "version": 3
   },
   "file_extension": ".py",
   "mimetype": "text/x-python",
   "name": "python",
   "nbconvert_exporter": "python",
   "pygments_lexer": "ipython3",
   "version": "3.7.3"
  }
 },
 "nbformat": 4,
 "nbformat_minor": 4
}
